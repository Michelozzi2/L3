{
 "cells": [
  {
   "cell_type": "code",
   "execution_count": 2,
   "id": "daba431b",
   "metadata": {
    "scrolled": true
   },
   "outputs": [
    {
     "data": {
      "text/html": [
       "<div>\n",
       "<style scoped>\n",
       "    .dataframe tbody tr th:only-of-type {\n",
       "        vertical-align: middle;\n",
       "    }\n",
       "\n",
       "    .dataframe tbody tr th {\n",
       "        vertical-align: top;\n",
       "    }\n",
       "\n",
       "    .dataframe thead th {\n",
       "        text-align: right;\n",
       "    }\n",
       "</style>\n",
       "<table border=\"1\" class=\"dataframe\">\n",
       "  <thead>\n",
       "    <tr style=\"text-align: right;\">\n",
       "      <th></th>\n",
       "      <th>prix</th>\n",
       "      <th>Cylindree</th>\n",
       "      <th>Puissance</th>\n",
       "      <th>Poids</th>\n",
       "      <th>Consommation</th>\n",
       "    </tr>\n",
       "  </thead>\n",
       "  <tbody>\n",
       "    <tr>\n",
       "      <th>Dalhatsu</th>\n",
       "      <td>11600.0</td>\n",
       "      <td>846.0</td>\n",
       "      <td>32.0</td>\n",
       "      <td>650.0</td>\n",
       "      <td>5.7</td>\n",
       "    </tr>\n",
       "    <tr>\n",
       "      <th>Suzuki_Swift</th>\n",
       "      <td>12490.0</td>\n",
       "      <td>993.0</td>\n",
       "      <td>39.0</td>\n",
       "      <td>750.0</td>\n",
       "      <td>5.8</td>\n",
       "    </tr>\n",
       "    <tr>\n",
       "      <th>Fiat_Panda</th>\n",
       "      <td>10450.0</td>\n",
       "      <td>899.0</td>\n",
       "      <td>29.0</td>\n",
       "      <td>730.0</td>\n",
       "      <td>6.1</td>\n",
       "    </tr>\n",
       "    <tr>\n",
       "      <th>Polo</th>\n",
       "      <td>17140.0</td>\n",
       "      <td>1390.0</td>\n",
       "      <td>44.0</td>\n",
       "      <td>955.0</td>\n",
       "      <td>6.5</td>\n",
       "    </tr>\n",
       "    <tr>\n",
       "      <th>Opel_Corsa</th>\n",
       "      <td>14825.0</td>\n",
       "      <td>1195.0</td>\n",
       "      <td>33.0</td>\n",
       "      <td>895.0</td>\n",
       "      <td>6.8</td>\n",
       "    </tr>\n",
       "    <tr>\n",
       "      <th>Subaru</th>\n",
       "      <td>13730.0</td>\n",
       "      <td>658.0</td>\n",
       "      <td>32.0</td>\n",
       "      <td>740.0</td>\n",
       "      <td>6.8</td>\n",
       "    </tr>\n",
       "    <tr>\n",
       "      <th>Toyota</th>\n",
       "      <td>19490.0</td>\n",
       "      <td>1331.0</td>\n",
       "      <td>55.0</td>\n",
       "      <td>1010.0</td>\n",
       "      <td>7.1</td>\n",
       "    </tr>\n",
       "    <tr>\n",
       "      <th>Ferrari</th>\n",
       "      <td>285000.0</td>\n",
       "      <td>5474.0</td>\n",
       "      <td>325.0</td>\n",
       "      <td>1690.0</td>\n",
       "      <td>21.2</td>\n",
       "    </tr>\n",
       "    <tr>\n",
       "      <th>Mercedes</th>\n",
       "      <td>183900.0</td>\n",
       "      <td>5987.0</td>\n",
       "      <td>300.0</td>\n",
       "      <td>2250.0</td>\n",
       "      <td>18.7</td>\n",
       "    </tr>\n",
       "    <tr>\n",
       "      <th>Maserati</th>\n",
       "      <td>92500.0</td>\n",
       "      <td>2789.0</td>\n",
       "      <td>209.0</td>\n",
       "      <td>1485.0</td>\n",
       "      <td>14.5</td>\n",
       "    </tr>\n",
       "    <tr>\n",
       "      <th>Oprel_Astra</th>\n",
       "      <td>25000.0</td>\n",
       "      <td>1597.0</td>\n",
       "      <td>74.0</td>\n",
       "      <td>1080.0</td>\n",
       "      <td>7.4</td>\n",
       "    </tr>\n",
       "    <tr>\n",
       "      <th>Peugeot_306</th>\n",
       "      <td>22350.0</td>\n",
       "      <td>1761.0</td>\n",
       "      <td>74.0</td>\n",
       "      <td>1100.0</td>\n",
       "      <td>9.0</td>\n",
       "    </tr>\n",
       "    <tr>\n",
       "      <th>Safrane</th>\n",
       "      <td>36600.0</td>\n",
       "      <td>2165.0</td>\n",
       "      <td>101.0</td>\n",
       "      <td>1500.0</td>\n",
       "      <td>11.7</td>\n",
       "    </tr>\n",
       "    <tr>\n",
       "      <th>Seat_Ibiza</th>\n",
       "      <td>22500.0</td>\n",
       "      <td>1983.0</td>\n",
       "      <td>85.0</td>\n",
       "      <td>1075.0</td>\n",
       "      <td>9.5</td>\n",
       "    </tr>\n",
       "    <tr>\n",
       "      <th>Golf</th>\n",
       "      <td>31580.0</td>\n",
       "      <td>1984.0</td>\n",
       "      <td>85.0</td>\n",
       "      <td>1155.0</td>\n",
       "      <td>9.5</td>\n",
       "    </tr>\n",
       "    <tr>\n",
       "      <th>Citroen</th>\n",
       "      <td>28750.0</td>\n",
       "      <td>1998.0</td>\n",
       "      <td>89.0</td>\n",
       "      <td>1140.0</td>\n",
       "      <td>8.8</td>\n",
       "    </tr>\n",
       "    <tr>\n",
       "      <th>Fiat_Escort</th>\n",
       "      <td>22600.0</td>\n",
       "      <td>1580.0</td>\n",
       "      <td>65.0</td>\n",
       "      <td>1080.0</td>\n",
       "      <td>9.3</td>\n",
       "    </tr>\n",
       "    <tr>\n",
       "      <th>Ford_Escort2</th>\n",
       "      <td>20300.0</td>\n",
       "      <td>1390.0</td>\n",
       "      <td>54.0</td>\n",
       "      <td>1110.0</td>\n",
       "      <td>8.6</td>\n",
       "    </tr>\n",
       "    <tr>\n",
       "      <th>Honda_Civic</th>\n",
       "      <td>19900.0</td>\n",
       "      <td>1396.0</td>\n",
       "      <td>66.0</td>\n",
       "      <td>1140.0</td>\n",
       "      <td>7.7</td>\n",
       "    </tr>\n",
       "    <tr>\n",
       "      <th>Volvo_850</th>\n",
       "      <td>39800.0</td>\n",
       "      <td>2435.0</td>\n",
       "      <td>106.0</td>\n",
       "      <td>1370.0</td>\n",
       "      <td>10.8</td>\n",
       "    </tr>\n",
       "    <tr>\n",
       "      <th>Ford_Fiesta</th>\n",
       "      <td>19740.0</td>\n",
       "      <td>1242.0</td>\n",
       "      <td>55.0</td>\n",
       "      <td>940.0</td>\n",
       "      <td>6.6</td>\n",
       "    </tr>\n",
       "    <tr>\n",
       "      <th>Hyundai</th>\n",
       "      <td>38990.0</td>\n",
       "      <td>2972.0</td>\n",
       "      <td>107.0</td>\n",
       "      <td>1400.0</td>\n",
       "      <td>11.7</td>\n",
       "    </tr>\n",
       "    <tr>\n",
       "      <th>Lancia</th>\n",
       "      <td>50800.0</td>\n",
       "      <td>2958.0</td>\n",
       "      <td>150.0</td>\n",
       "      <td>1550.0</td>\n",
       "      <td>11.9</td>\n",
       "    </tr>\n",
       "    <tr>\n",
       "      <th>Mazda</th>\n",
       "      <td>36200.0</td>\n",
       "      <td>2497.0</td>\n",
       "      <td>122.0</td>\n",
       "      <td>1330.0</td>\n",
       "      <td>10.8</td>\n",
       "    </tr>\n",
       "    <tr>\n",
       "      <th>Mitsubishi</th>\n",
       "      <td>31950.0</td>\n",
       "      <td>1998.0</td>\n",
       "      <td>66.0</td>\n",
       "      <td>1300.0</td>\n",
       "      <td>7.6</td>\n",
       "    </tr>\n",
       "    <tr>\n",
       "      <th>Opel_Omega</th>\n",
       "      <td>47700.0</td>\n",
       "      <td>2496.0</td>\n",
       "      <td>125.0</td>\n",
       "      <td>1670.0</td>\n",
       "      <td>11.3</td>\n",
       "    </tr>\n",
       "    <tr>\n",
       "      <th>Peugot_806</th>\n",
       "      <td>36950.0</td>\n",
       "      <td>1998.0</td>\n",
       "      <td>89.0</td>\n",
       "      <td>1560.0</td>\n",
       "      <td>10.8</td>\n",
       "    </tr>\n",
       "    <tr>\n",
       "      <th>Nissan</th>\n",
       "      <td>26950.0</td>\n",
       "      <td>1997.0</td>\n",
       "      <td>92.0</td>\n",
       "      <td>1240.0</td>\n",
       "      <td>9.2</td>\n",
       "    </tr>\n",
       "    <tr>\n",
       "      <th>Seat</th>\n",
       "      <td>36400.0</td>\n",
       "      <td>1984.0</td>\n",
       "      <td>85.0</td>\n",
       "      <td>1635.0</td>\n",
       "      <td>11.6</td>\n",
       "    </tr>\n",
       "    <tr>\n",
       "      <th>Toyota_Previa</th>\n",
       "      <td>50900.0</td>\n",
       "      <td>2438.0</td>\n",
       "      <td>97.0</td>\n",
       "      <td>1800.0</td>\n",
       "      <td>12.8</td>\n",
       "    </tr>\n",
       "    <tr>\n",
       "      <th>Volvo_960</th>\n",
       "      <td>49300.0</td>\n",
       "      <td>2473.0</td>\n",
       "      <td>125.0</td>\n",
       "      <td>1570.0</td>\n",
       "      <td>12.7</td>\n",
       "    </tr>\n",
       "  </tbody>\n",
       "</table>\n",
       "</div>"
      ],
      "text/plain": [
       "                   prix  Cylindree  Puissance   Poids  Consommation\n",
       "Dalhatsu        11600.0      846.0       32.0   650.0           5.7\n",
       "Suzuki_Swift    12490.0      993.0       39.0   750.0           5.8\n",
       "Fiat_Panda      10450.0      899.0       29.0   730.0           6.1\n",
       "Polo            17140.0     1390.0       44.0   955.0           6.5\n",
       "Opel_Corsa      14825.0     1195.0       33.0   895.0           6.8\n",
       "Subaru          13730.0      658.0       32.0   740.0           6.8\n",
       "Toyota          19490.0     1331.0       55.0  1010.0           7.1\n",
       "Ferrari        285000.0     5474.0      325.0  1690.0          21.2\n",
       "Mercedes       183900.0     5987.0      300.0  2250.0          18.7\n",
       "Maserati        92500.0     2789.0      209.0  1485.0          14.5\n",
       "Oprel_Astra     25000.0     1597.0       74.0  1080.0           7.4\n",
       "Peugeot_306     22350.0     1761.0       74.0  1100.0           9.0\n",
       "Safrane         36600.0     2165.0      101.0  1500.0          11.7\n",
       "Seat_Ibiza      22500.0     1983.0       85.0  1075.0           9.5\n",
       "Golf            31580.0     1984.0       85.0  1155.0           9.5\n",
       "Citroen         28750.0     1998.0       89.0  1140.0           8.8\n",
       "Fiat_Escort     22600.0     1580.0       65.0  1080.0           9.3\n",
       "Ford_Escort2    20300.0     1390.0       54.0  1110.0           8.6\n",
       "Honda_Civic     19900.0     1396.0       66.0  1140.0           7.7\n",
       "Volvo_850       39800.0     2435.0      106.0  1370.0          10.8\n",
       "Ford_Fiesta     19740.0     1242.0       55.0   940.0           6.6\n",
       "Hyundai         38990.0     2972.0      107.0  1400.0          11.7\n",
       "Lancia          50800.0     2958.0      150.0  1550.0          11.9\n",
       "Mazda           36200.0     2497.0      122.0  1330.0          10.8\n",
       "Mitsubishi      31950.0     1998.0       66.0  1300.0           7.6\n",
       "Opel_Omega      47700.0     2496.0      125.0  1670.0          11.3\n",
       "Peugot_806      36950.0     1998.0       89.0  1560.0          10.8\n",
       "Nissan          26950.0     1997.0       92.0  1240.0           9.2\n",
       "Seat            36400.0     1984.0       85.0  1635.0          11.6\n",
       "Toyota_Previa   50900.0     2438.0       97.0  1800.0          12.8\n",
       "Volvo_960       49300.0     2473.0      125.0  1570.0          12.7"
      ]
     },
     "execution_count": 2,
     "metadata": {},
     "output_type": "execute_result"
    }
   ],
   "source": [
    "import pandas as pd\n",
    "import seaborn as sns\n",
    "from sklearn.linear_model import LinearRegression\n",
    "Vehicules = pd.read_csv('Data/Véhicules.csv', sep=\",\", index_col='Unnamed: 0')\n",
    "#index_col permet de mettre la marque en index sinon model ne marche pas car string\n",
    "#véhicules.csv sur ent (pas stat l'autre)\n",
    "Vehicules"
   ]
  },
  {
   "cell_type": "code",
   "execution_count": 3,
   "id": "b0c25320",
   "metadata": {},
   "outputs": [
    {
     "data": {
      "text/plain": [
       "0.9551348705954427"
      ]
     },
     "execution_count": 3,
     "metadata": {},
     "output_type": "execute_result"
    }
   ],
   "source": [
    "model = LinearRegression()\n",
    "#ici avec sklearn on fait un modele régression lineaire\n",
    "x = Vehicules.drop(columns=['Consommation'])\n",
    "#x on enlève la colone de consommation\n",
    "y = Vehicules['Consommation']\n",
    "#y prend la valeur de la consommation\n",
    "model.fit(x,y)\n",
    "#remplit le modèle avec les données de x et y\n",
    "ypred = model.predict(x)\n",
    "#prédiction de erreurs\n",
    "model.score(x,y)\n",
    "#le score du modèle plus c'est proche de 1 mieux c'est"
   ]
  },
  {
   "cell_type": "code",
   "execution_count": 4,
   "id": "01330a26",
   "metadata": {},
   "outputs": [
    {
     "data": {
      "text/plain": [
       "<matplotlib.collections.PathCollection at 0x15e4b2d90>"
      ]
     },
     "execution_count": 4,
     "metadata": {},
     "output_type": "execute_result"
    },
    {
     "data": {
      "image/png": "[encoded data removed]",
      "text/plain": [
       "<Figure size 640x480 with 1 Axes>"
      ]
     },
     "metadata": {},
     "output_type": "display_data"
    }
   ],
   "source": [
    "import matplotlib.pyplot as plt\n",
    "plt.scatter(x=y, y=ypred)\n",
    "#affichage avec matplotlib"
   ]
  },
  {
   "cell_type": "code",
   "execution_count": 5,
   "id": "dc3d66d1",
   "metadata": {},
   "outputs": [
    {
     "data": {
      "text/plain": [
       "17.043249577224113"
      ]
     },
     "execution_count": 5,
     "metadata": {},
     "output_type": "execute_result"
    }
   ],
   "source": [
    "from sklearn.metrics import mean_squared_error\n",
    "mean_squared_error(y,ypred)*len(Vehicules)\n",
    "#si on enlève le *len(Vehicules) on a alors l'erreur moyenne pour chaque véhicule or nous voulons tous les véhicules\n",
    "#revient a faire la même chaose que ca -> sum((y-ypred)*(y-ypred))\n",
    "#erreur quadratique somme de la différence entre y(conso) et ypred(prediction de conso)"
   ]
  },
  {
   "cell_type": "code",
   "execution_count": 6,
   "id": "882e0a7c",
   "metadata": {},
   "outputs": [
    {
     "data": {
      "text/plain": [
       "array([ 2.00107663e-05, -5.05045972e-04,  2.51093234e-02,  4.16929619e-03])"
      ]
     },
     "execution_count": 6,
     "metadata": {},
     "output_type": "execute_result"
    }
   ],
   "source": [
    "model.coef_\n",
    "#affiche les coefs pour la \"formule\" du cours"
   ]
  },
  {
   "cell_type": "code",
   "execution_count": 7,
   "id": "09287dd5",
   "metadata": {},
   "outputs": [
    {
     "data": {
      "text/plain": [
       "array(['prix', 'Cylindree', 'Puissance', 'Poids'], dtype=object)"
      ]
     },
     "execution_count": 7,
     "metadata": {},
     "output_type": "execute_result"
    }
   ],
   "source": [
    "model.feature_names_in_\n",
    "#prix * premeir coef + Cylindre * 2eme coef + Puissance * 3eme coef + Poids * 4eme coef\n",
    "#formule du cours de la régression linéaire"
   ]
  },
  {
   "cell_type": "code",
   "execution_count": 8,
   "id": "135d2e9f",
   "metadata": {},
   "outputs": [
    {
     "data": {
      "text/plain": [
       "<matplotlib.collections.PathCollection at 0x15e59b590>"
      ]
     },
     "execution_count": 8,
     "metadata": {},
     "output_type": "execute_result"
    },
    {
     "data": {
      "image/png": "[encoded data removed]",
      "text/plain": [
       "<Figure size 640x480 with 1 Axes>"
      ]
     },
     "metadata": {},
     "output_type": "display_data"
    }
   ],
   "source": [
    "plt.scatter(data=Vehicules, x='prix', y='Consommation')"
   ]
  },
  {
   "cell_type": "code",
   "execution_count": 9,
   "id": "f9eba690",
   "metadata": {},
   "outputs": [],
   "source": [
    "x['prix2'] = x['prix']*x['prix']\n",
    "x['Cylindree2'] = x['Cylindree']*x['Cylindree']\n",
    "x['Puissance2'] = x['Puissance']*x['Puissance']\n",
    "x['Poids2'] = x['Poids']*x['Poids']\n",
    "\n",
    "x[\"prixCy\"] = x['prix']*x['Cylindree']\n",
    "x[\"prixPu\"] = x['prix']*x['Puissance']\n",
    "x[\"prixPo\"] = x['prix']*x['Poids']\n",
    "\n",
    "x[\"CylindreePu\"] = x['Cylindree']*x['Puissance']\n",
    "x[\"CylindreePo\"] = x['Cylindree']*x['Poids']\n",
    "x[\"PuissancePo\"] = x['Puissance']*x['Poids']   \n",
    "#on ajoute les colonnes au carré pour avoir une meilleur prédiction\n",
    "#on ajoute les colonnes avec les multiplications pour avoir une meilleur prédiction"
   ]
  },
  {
   "cell_type": "code",
   "execution_count": 10,
   "id": "98338306",
   "metadata": {},
   "outputs": [
    {
     "data": {
      "text/plain": [
       "0.9835255525555511"
      ]
     },
     "execution_count": 10,
     "metadata": {},
     "output_type": "execute_result"
    }
   ],
   "source": [
    "model.fit(x,y)\n",
    "ypred = model.predict(x)\n",
    "model.score(x,y)\n",
    "#en ajoutant les colonnes au carré on a une meilleur prédiction"
   ]
  },
  {
   "cell_type": "markdown",
   "id": "00365ab8",
   "metadata": {},
   "source": [
    "#### ne pas trop apprendre (donné des données )\n",
    "Sinon courbe redescends -> savoir ou arrêter (Overfitting)"
   ]
  }
 ],
 "metadata": {
  "kernelspec": {
   "display_name": "Python 3 (ipykernel)",
   "language": "python",
   "name": "python3"
  },
  "language_info": {
   "codemirror_mode": {
    "name": "ipython",
    "version": 3
   },
   "file_extension": ".py",
   "mimetype": "text/x-python",
   "name": "python",
   "nbconvert_exporter": "python",
   "pygments_lexer": "ipython3",
   "version": "3.11.5"
  }
 },
 "nbformat": 4,
 "nbformat_minor": 5
}
